{
 "cells": [
  {
   "cell_type": "markdown",
   "metadata": {},
   "source": [
    "## Prepare Dataset"
   ]
  },
  {
   "cell_type": "code",
   "execution_count": null,
   "metadata": {},
   "outputs": [],
   "source": [
    "import os\n",
    "from dotenv import load_dotenv\n",
    "load_dotenv()"
   ]
  },
  {
   "cell_type": "code",
   "execution_count": null,
   "metadata": {},
   "outputs": [],
   "source": [
    "%env LANGCHAIN_PROJECT=\"nj-community\""
   ]
  },
  {
   "cell_type": "markdown",
   "metadata": {},
   "source": [
    "### Assets"
   ]
  },
  {
   "cell_type": "code",
   "execution_count": null,
   "metadata": {},
   "outputs": [],
   "source": [
    "questions = [\n",
    "            \"What's the name of the actor who played Neo in 'Matrix'?\",\n",
    "            \"Who is the founder of Amazon?\",\n",
    "            \"Give me the name of the singer and one of the other Beatles member\",\n",
    "             ]\n",
    "\n",
    "# my ground thruths \n",
    "dataset_outputs = [\n",
    "    {\"must_mention\": [\"Keanu Reeves\"]},\n",
    "    {\"must_mention\": [\"Elon Musk\",]}, #ERROR\n",
    "    {\"must_mention\": [\"John Lennon\"], \"is_optional\": [\"Paul McCartney\",\"George Harrison\", \"Ringo Starr\"]},\n",
    "]"
   ]
  },
  {
   "cell_type": "markdown",
   "metadata": {},
   "source": [
    "### Create"
   ]
  },
  {
   "cell_type": "code",
   "execution_count": null,
   "metadata": {},
   "outputs": [],
   "source": [
    "from langsmith import Client\n",
    "client = Client()\n",
    "dataset_name = \"Simple-Evaluation\"\n"
   ]
  },
  {
   "cell_type": "code",
   "execution_count": null,
   "metadata": {},
   "outputs": [],
   "source": [
    "\n",
    "dataset = client.create_dataset(\n",
    "    dataset_name=dataset_name,\n",
    "    description=\"Q/A about general knowledge\"\n",
    ")\n",
    "\n",
    "client.create_examples(\n",
    "    inputs=[{\"question\": q} for q in questions],\n",
    "    outputs=dataset_outputs,\n",
    "    dataset_id=dataset.id,\n",
    ")\n",
    "\n",
    "print(f\"Dataset Created with Id: {dataset.id}\")"
   ]
  },
  {
   "cell_type": "markdown",
   "metadata": {},
   "source": [
    "### Evaluate "
   ]
  },
  {
   "cell_type": "code",
   "execution_count": null,
   "metadata": {},
   "outputs": [],
   "source": [
    "from langchain_openai import AzureChatOpenAI\n",
    "    \n",
    "model = AzureChatOpenAI(\n",
    "            azure_deployment=os.getenv(\"OPENAI_CHAT_DEPLOYMENT_NAME\"),\n",
    "            openai_api_type=\"azure\",\n",
    "            temperature=0.0,\n",
    "        )"
   ]
  },
  {
   "cell_type": "markdown",
   "metadata": {},
   "source": [
    "### Basic Evaluator "
   ]
  },
  {
   "cell_type": "code",
   "execution_count": null,
   "metadata": {},
   "outputs": [],
   "source": [
    "from langchain.evaluation import Criteria\n",
    "list(Criteria)"
   ]
  },
  {
   "cell_type": "code",
   "execution_count": null,
   "metadata": {},
   "outputs": [],
   "source": [
    "from langchain.smith import RunEvalConfig, run_on_dataset\n",
    "from langsmith.evaluation import EvaluationResult, run_evaluator\n",
    "import uuid\n",
    "\n",
    "eval_config = RunEvalConfig(\n",
    "    eval_llm=model, # USE THE SAME MODEL \n",
    "    evaluators=[\n",
    "        RunEvalConfig.Criteria(\"harmfulness\"),        \n",
    "        RunEvalConfig.Criteria(\"helpfulness\"),\n",
    "        ]\n",
    ")\n",
    "\n",
    "name = f\"ga_{str(uuid.uuid4())}\"\n",
    "client.run_on_dataset(\n",
    "    dataset_name=dataset_name,\n",
    "    llm_or_chain_factory=model,\n",
    "    evaluation=eval_config,\n",
    "    verbose=True,\n",
    "    project_name=name,\n",
    ")"
   ]
  },
  {
   "cell_type": "markdown",
   "metadata": {},
   "source": [
    "### Custom Evaluators (compare expected results)"
   ]
  },
  {
   "cell_type": "code",
   "execution_count": null,
   "metadata": {},
   "outputs": [],
   "source": [
    "from langchain.smith import RunEvalConfig, run_on_dataset\n",
    "from langsmith.evaluation import EvaluationResult, run_evaluator\n",
    "import uuid\n",
    "\n",
    "@run_evaluator\n",
    "def must_mention(run, example) -> EvaluationResult:\n",
    "    prediction = run.outputs[\"generations\"][0][0][\"text\"]\n",
    "    required = example.outputs.get(\"must_mention\") or []\n",
    "    score = all(phrase in prediction for phrase in required)\n",
    "    return EvaluationResult(key=\"must_mention\", score=score)\n",
    "\n",
    "@run_evaluator\n",
    "def is_optional(run, example) -> EvaluationResult:\n",
    "    prediction = run.outputs[\"generations\"][0][0][\"text\"]\n",
    "    is_optional = example.outputs.get(\"is_optional\") or []\n",
    "    score = any(phrase in prediction for phrase in is_optional) if is_optional else -1\n",
    "    return EvaluationResult(key=\"is_optional\", score=score)\n",
    "\n",
    "eval_config = RunEvalConfig(\n",
    "    eval_llm=model, # USE THE SAME MODEL \n",
    "    custom_evaluators=[must_mention, is_optional],\n",
    "    evaluators=[\n",
    "        RunEvalConfig.Criteria(\"harmfulness\"),\n",
    "        ]\n",
    ")\n",
    "\n",
    "name = f\"ga_{str(uuid.uuid4())}\"\n",
    "client.run_on_dataset(\n",
    "    dataset_name=dataset_name,\n",
    "    llm_or_chain_factory=model,\n",
    "    evaluation=eval_config,\n",
    "    verbose=True,\n",
    "    project_name=name,\n",
    ")"
   ]
  },
  {
   "cell_type": "markdown",
   "metadata": {},
   "source": [
    "### Use Criteria"
   ]
  },
  {
   "cell_type": "code",
   "execution_count": null,
   "metadata": {},
   "outputs": [],
   "source": [
    "\n",
    "from langchain.smith import RunEvalConfig, run_on_dataset\n",
    "from langsmith.evaluation import EvaluationResult, run_evaluator\n",
    "import uuid\n",
    "\n",
    "\n",
    "eval_config = RunEvalConfig(\n",
    "    eval_llm=model, # USE THE SAME MODEL \n",
    "    evaluators=[\n",
    "        RunEvalConfig.Criteria(\"harmfulness\"),\n",
    "        RunEvalConfig.Criteria(\n",
    "            {\n",
    "                \"Movie\": \"Does it related movies topic?\"\n",
    "                \"Respond Y if it is , N if it's not.\"\n",
    "            },\n",
    "            # prediction_key=\"answer\",\n",
    "            reference_key=\"question\",\n",
    "        ),\n",
    "        RunEvalConfig.Criteria(\n",
    "            {\n",
    "                \"Music\": \"Does it related music topic?\"\n",
    "                \"Respond Y if it is , N if it's not.\"\n",
    "            },\n",
    "            reference_key=\"question\",\n",
    "        ),\n",
    "        RunEvalConfig.Criteria(\n",
    "            {\n",
    "                \"Cooking\": \"Does it related cooking topic?\"\n",
    "                \"Respond Y if it is , N if it's not.\"\n",
    "            },\n",
    "            reference_key=\"question\",\n",
    "        ),\n",
    "\n",
    "        ]\n",
    ")\n",
    "\n",
    "name = f\"ga_{str(uuid.uuid4())}\"\n",
    "client.run_on_dataset(\n",
    "    dataset_name=dataset_name,\n",
    "    llm_or_chain_factory=model,\n",
    "    evaluation=eval_config,\n",
    "    verbose=True,\n",
    "    project_name=name,\n",
    ")"
   ]
  },
  {
   "cell_type": "code",
   "execution_count": null,
   "metadata": {},
   "outputs": [],
   "source": [
    "\n",
    "\n",
    "from langchain.smith import RunEvalConfig, run_on_dataset\n",
    "from langsmith.evaluation import EvaluationResult, run_evaluator\n",
    "import uuid\n",
    "\n",
    "\n",
    "eval_config = RunEvalConfig(\n",
    "    eval_llm=model, # USE THE SAME MODEL \n",
    "    evaluators=[\n",
    "       RunEvalConfig.LabeledScoreString(\n",
    "            {\n",
    "                \"accuracy\": \"\"\"\n",
    "                    Score 1: The answer is completely unrelated to the reference.\n",
    "                    Score 5: The answer has moderate relevance but contains inaccuracies.\n",
    "                    Score 10: The answer is completely accurate and aligns perfectly with the reference.\"\"\"\n",
    "            },\n",
    "            normalize_by=10,\n",
    "            reference_key=\"must_mention\",\n",
    "            prediction_key=\"generations\",\n",
    "        ),\n",
    "\n",
    "        ]\n",
    ")\n",
    "\n",
    "name = f\"ga_{str(uuid.uuid4())}\"\n",
    "client.run_on_dataset(\n",
    "    dataset_name=dataset_name,\n",
    "    llm_or_chain_factory=model,\n",
    "    evaluation=eval_config,\n",
    "    verbose=True,\n",
    "    project_name=name,\n",
    ")"
   ]
  },
  {
   "cell_type": "markdown",
   "metadata": {},
   "source": [
    "### Evaluate the model \n",
    "\n",
    "ONE OF THESE \n",
    "https://docs.smith.langchain.com/evaluation/custom-evaluators\n",
    "\n"
   ]
  },
  {
   "cell_type": "markdown",
   "metadata": {},
   "source": [
    "### Add to dataset from Existing Results"
   ]
  },
  {
   "cell_type": "code",
   "execution_count": null,
   "metadata": {},
   "outputs": [],
   "source": [
    "%env LANGCHAIN_PROJECT=test\n"
   ]
  },
  {
   "cell_type": "code",
   "execution_count": null,
   "metadata": {},
   "outputs": [],
   "source": [
    "model.invoke(\"Who is the founder of Amazon?\")"
   ]
  },
  {
   "cell_type": "markdown",
   "metadata": {},
   "source": []
  },
  {
   "cell_type": "code",
   "execution_count": null,
   "metadata": {},
   "outputs": [],
   "source": [
    "\n",
    "import langsmith\n",
    "from langchain import chat_models, smith\n",
    "from langchain.evaluation import EvaluatorType\n",
    "\n",
    "\n",
    "# Define the evaluators to apply\n",
    "eval_config = smith.RunEvalConfig(\n",
    "    evaluators=[\n",
    "        \"cot_qa\",\n",
    "        RunEvalConfig.LabeledCriteria(\"correctness\"),       \n",
    "    ],\n",
    "    custom_evaluators=[],\n",
    "    eval_llm=model\n",
    ")\n",
    "\n",
    "client = langsmith.Client()\n",
    "\n",
    "name = f\"check_{str(uuid.uuid4())}\"\n",
    "chain_results = client.run_on_dataset(\n",
    "    dataset_name=\"Simple-Evaluation-Chat\",\n",
    "    llm_or_chain_factory=model,\n",
    "    evaluation=eval_config,\n",
    "    project_name=name,\n",
    "    concurrency_level=5,\n",
    "    verbose=True,\n",
    ")"
   ]
  }
 ],
 "metadata": {
  "kernelspec": {
   "display_name": "genai-articles-wuG-FtGG",
   "language": "python",
   "name": "python3"
  },
  "language_info": {
   "codemirror_mode": {
    "name": "ipython",
    "version": 3
   },
   "file_extension": ".py",
   "mimetype": "text/x-python",
   "name": "python",
   "nbconvert_exporter": "python",
   "pygments_lexer": "ipython3",
   "version": "3.11.3"
  }
 },
 "nbformat": 4,
 "nbformat_minor": 2
}

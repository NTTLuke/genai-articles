{
 "cells": [
  {
   "cell_type": "code",
   "execution_count": 1,
   "metadata": {},
   "outputs": [
    {
     "data": {
      "text/plain": [
       "True"
      ]
     },
     "execution_count": 1,
     "metadata": {},
     "output_type": "execute_result"
    }
   ],
   "source": [
    "import langsmith\n",
    "from langchain import chat_models, prompts, smith\n",
    "from langchain.schema import output_parser\n",
    "from langchain.chat_models import AzureChatOpenAI\n",
    "import os\n",
    "from dotenv import load_dotenv\n",
    "\n",
    "load_dotenv()"
   ]
  },
  {
   "cell_type": "code",
   "execution_count": 2,
   "metadata": {},
   "outputs": [
    {
     "name": "stderr",
     "output_type": "stream",
     "text": [
      "c:\\Users\\nttLu\\.virtualenvs\\genai-articles-wuG-FtGG\\Lib\\site-packages\\langchain\\chat_models\\azure_openai.py:162: UserWarning: As of openai>=1.0.0, if `deployment_name` (or alias `azure_deployment`) is specified then `openai_api_base` (or alias `base_url`) should not be. Instead use `deployment_name` (or alias `azure_deployment`) and `azure_endpoint`.\n",
      "  warnings.warn(\n",
      "c:\\Users\\nttLu\\.virtualenvs\\genai-articles-wuG-FtGG\\Lib\\site-packages\\langchain\\chat_models\\azure_openai.py:170: UserWarning: As of openai>=1.0.0, if `openai_api_base` (or alias `base_url`) is specified it is expected to be of the form https://example-resource.azure.openai.com/openai/deployments/example-deployment. Updating https://cog-um7r24s27bps6.openai.azure.com/openai to https://cog-um7r24s27bps6.openai.azure.com/openai.\n",
      "  warnings.warn(\n"
     ]
    }
   ],
   "source": [
    "llm = AzureChatOpenAI(\n",
    "    azure_deployment=\"chat\",\n",
    "    openai_api_type=\"azure\",\n",
    "    temperature=0.0\n",
    ")"
   ]
  },
  {
   "cell_type": "code",
   "execution_count": 3,
   "metadata": {},
   "outputs": [
    {
     "data": {
      "text/plain": [
       "AIMessage(content=\"J'aime programmer.\")"
      ]
     },
     "execution_count": 3,
     "metadata": {},
     "output_type": "execute_result"
    }
   ],
   "source": [
    "from langchain.schema import HumanMessage\n",
    "\n",
    "message = HumanMessage(\n",
    "    content=\"Translate this sentence from English to French. I love programming.\"\n",
    ")\n",
    "llm([message])"
   ]
  },
  {
   "cell_type": "code",
   "execution_count": 27,
   "metadata": {},
   "outputs": [],
   "source": [
    "dataset_name = \"ds-elderly-sea-70\""
   ]
  },
  {
   "cell_type": "code",
   "execution_count": 4,
   "metadata": {},
   "outputs": [],
   "source": [
    "# Filter runs to add to the dataset\n",
    "client = langsmith.Client()\n",
    "project_name = \"my-chain-example\"\n",
    "\n",
    "runs = client.list_runs(\n",
    "    project_name= project_name,\n",
    "    execution_order=1,\n",
    "    error=False,\n",
    ")\n",
    "\n",
    "dataset = client.create_dataset(dataset_name, description=\"An example dataset\")\n",
    "for run in runs:\n",
    "    client.create_example(\n",
    "        inputs=run.inputs,\n",
    "        outputs=run.outputs,\n",
    "        dataset_id=dataset.id,\n",
    "    )"
   ]
  },
  {
   "cell_type": "code",
   "execution_count": 41,
   "metadata": {},
   "outputs": [],
   "source": [
    "\n",
    "eval_config = smith.RunEvalConfig(\n",
    "    evaluators=[\n",
    "        \"cot_qa\",\n",
    "        smith.RunEvalConfig.LabeledCriteria(\"relevance\"),\n",
    "        smith.RunEvalConfig.LabeledCriteria(\"coherence\"),\n",
    "        smith.RunEvalConfig.LabeledCriteria(\"helpfulness\"),\n",
    "        smith.RunEvalConfig.LabeledCriteria(\"maliciousness\"),\n",
    "        smith.RunEvalConfig.LabeledCriteria(\"misogyny\"),\n",
    "        smith.RunEvalConfig.Criteria(\n",
    "            {\n",
    "                \"Useful\": \"Read the question and check if the answer is useful. At the end can I use the answer to solve my problem?\"\n",
    "                \"Respond Y if it is, N if it's not.\"\n",
    "            }\n",
    "        ),\n",
    "    ],\n",
    "    custom_evaluators=[],\n",
    "    eval_llm=llm\n",
    ")\n"
   ]
  },
  {
   "cell_type": "code",
   "execution_count": 42,
   "metadata": {},
   "outputs": [
    {
     "name": "stdout",
     "output_type": "stream",
     "text": [
      "View the evaluation results for project 'test-giving-lord-950311aa-dc64-4759-8a16-1edd9270a0ee' at:\n",
      "https://smith.langchain.com/o/1a3b231d-e8b9-4837-8416-2403db894308/projects/p/f847c72e-c1e3-49b5-9da3-f65b1032094a?eval=true\n",
      "\n",
      "View all tests for Dataset ds-elderly-sea-70 at:\n",
      "https://smith.langchain.com/o/1a3b231d-e8b9-4837-8416-2403db894308/datasets/6346d51b-f5f3-439e-82c1-a84d9f663ca8\n",
      "[------------------------------------------------->] 1/1"
     ]
    }
   ],
   "source": [
    "import uuid\n",
    "guid = str(uuid.uuid4())\n",
    "\n",
    "\n",
    "client = langsmith.Client()\n",
    "chain_results = client.run_on_dataset(\n",
    "    dataset_name=dataset_name,\n",
    "    llm_or_chain_factory=llm,\n",
    "    evaluation=eval_config,\n",
    "    project_name=f\"test-giving-lord-{guid}\",\n",
    "    concurrency_level=5,\n",
    "    verbose=True,\n",
    ")\n",
    "    \n",
    "\n",
    " "
   ]
  }
 ],
 "metadata": {
  "kernelspec": {
   "display_name": "genai-articles-wuG-FtGG",
   "language": "python",
   "name": "python3"
  },
  "language_info": {
   "codemirror_mode": {
    "name": "ipython",
    "version": 3
   },
   "file_extension": ".py",
   "mimetype": "text/x-python",
   "name": "python",
   "nbconvert_exporter": "python",
   "pygments_lexer": "ipython3",
   "version": "3.11.3"
  }
 },
 "nbformat": 4,
 "nbformat_minor": 2
}

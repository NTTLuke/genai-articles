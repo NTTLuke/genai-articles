{
 "cells": [
  {
   "cell_type": "code",
   "execution_count": null,
   "metadata": {},
   "outputs": [],
   "source": [
    "import langsmith\n",
    "from langchain import chat_models, prompts, smith\n",
    "from langchain.schema import output_parser\n",
    "from langchain.chat_models import AzureChatOpenAI\n",
    "import os\n",
    "from dotenv import load_dotenv\n",
    "\n",
    "load_dotenv()"
   ]
  },
  {
   "cell_type": "code",
   "execution_count": null,
   "metadata": {},
   "outputs": [],
   "source": [
    "llm = AzureChatOpenAI(\n",
    "    azure_deployment=\"YYYY\",\n",
    "    openai_api_type=\"azure\", \n",
    "    temperature=0.0\n",
    ")"
   ]
  },
  {
   "cell_type": "code",
   "execution_count": null,
   "metadata": {},
   "outputs": [],
   "source": [
    "from langchain.schema import HumanMessage\n",
    "\n",
    "message = HumanMessage(\n",
    "    content=\"Translate this sentence from English to French. I love programming.\"\n",
    ")\n",
    "llm([message])"
   ]
  },
  {
   "cell_type": "code",
   "execution_count": null,
   "metadata": {},
   "outputs": [],
   "source": [
    "dataset_name = \"ds-elderly-sea-70\""
   ]
  },
  {
   "cell_type": "code",
   "execution_count": null,
   "metadata": {},
   "outputs": [],
   "source": [
    "# Filter runs to add to the dataset\n",
    "client = langsmith.Client()\n",
    "project_name = \"my-chain-example\"\n",
    "\n",
    "runs = client.list_runs(\n",
    "    project_name= project_name,\n",
    "    execution_order=1,\n",
    "    error=False,\n",
    ")\n",
    "\n",
    "dataset = client.create_dataset(dataset_name, description=\"An example dataset\")\n",
    "for run in runs:\n",
    "    client.create_example(\n",
    "        inputs=run.inputs,\n",
    "        outputs=run.outputs,\n",
    "        dataset_id=dataset.id,\n",
    "    )"
   ]
  },
  {
   "cell_type": "code",
   "execution_count": null,
   "metadata": {},
   "outputs": [],
   "source": [
    "\n",
    "eval_config = smith.RunEvalConfig(\n",
    "    evaluators=[\n",
    "        \"cot_qa\",\n",
    "        smith.RunEvalConfig.LabeledCriteria(\"relevance\"),\n",
    "        smith.RunEvalConfig.LabeledCriteria(\"coherence\"),\n",
    "        smith.RunEvalConfig.LabeledCriteria(\"helpfulness\"),\n",
    "        smith.RunEvalConfig.LabeledCriteria(\"maliciousness\"),\n",
    "        smith.RunEvalConfig.LabeledCriteria(\"misogyny\"),\n",
    "        smith.RunEvalConfig.Criteria(\n",
    "            {\n",
    "                \"Useful\": \"Read the question and check if the answer is useful. At the end can I use the answer to solve my problem?\"\n",
    "                \"Respond Y if it is, N if it's not.\"\n",
    "            }\n",
    "        ),\n",
    "    ],\n",
    "    custom_evaluators=[],\n",
    "    eval_llm=llm\n",
    ")\n"
   ]
  },
  {
   "cell_type": "code",
   "execution_count": null,
   "metadata": {},
   "outputs": [],
   "source": [
    "import uuid\n",
    "guid = str(uuid.uuid4())\n",
    "\n",
    "\n",
    "client = langsmith.Client()\n",
    "chain_results = client.run_on_dataset(\n",
    "    dataset_name=dataset_name,\n",
    "    llm_or_chain_factory=llm,\n",
    "    evaluation=eval_config,\n",
    "    project_name=f\"test-giving-lord-{guid}\",\n",
    "    concurrency_level=5,\n",
    "    verbose=True,\n",
    ")\n",
    "    \n",
    "\n",
    " "
   ]
  }
 ],
 "metadata": {
  "kernelspec": {
   "display_name": "genai-articles-wuG-FtGG",
   "language": "python",
   "name": "python3"
  },
  "language_info": {
   "codemirror_mode": {
    "name": "ipython",
    "version": 3
   },
   "file_extension": ".py",
   "mimetype": "text/x-python",
   "name": "python",
   "nbconvert_exporter": "python",
   "pygments_lexer": "ipython3",
   "version": "3.11.3"
  }
 },
 "nbformat": 4,
 "nbformat_minor": 2
}
